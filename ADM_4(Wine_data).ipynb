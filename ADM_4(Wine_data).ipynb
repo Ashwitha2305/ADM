{
  "nbformat": 4,
  "nbformat_minor": 0,
  "metadata": {
    "colab": {
      "provenance": [],
      "authorship_tag": "ABX9TyNmIoaKvyvvEV3vzSHLW43d",
      "include_colab_link": true
    },
    "kernelspec": {
      "name": "python3",
      "display_name": "Python 3"
    },
    "language_info": {
      "name": "python"
    }
  },
  "cells": [
    {
      "cell_type": "markdown",
      "metadata": {
        "id": "view-in-github",
        "colab_type": "text"
      },
      "source": [
        "<a href=\"https://colab.research.google.com/github/Ashwitha2305/ADM/blob/main/ADM_4(Wine_data).ipynb\" target=\"_parent\"><img src=\"https://colab.research.google.com/assets/colab-badge.svg\" alt=\"Open In Colab\"/></a>"
      ]
    },
    {
      "cell_type": "code",
      "execution_count": 1,
      "metadata": {
        "id": "O7_PPWweifwc"
      },
      "outputs": [],
      "source": [
        "import pandas as pd\n",
        "import numpy as np\n",
        "import matplotlib.pyplot as plt\n",
        "import seaborn as sns"
      ]
    },
    {
      "cell_type": "code",
      "source": [
        "df=pd.read_csv(\"/content/wine_data.csv\")"
      ],
      "metadata": {
        "id": "97fs-WEqjRhg"
      },
      "execution_count": 3,
      "outputs": []
    },
    {
      "cell_type": "code",
      "source": [
        "df.columns"
      ],
      "metadata": {
        "colab": {
          "base_uri": "https://localhost:8080/"
        },
        "id": "Jvv9uaxOp9Pq",
        "outputId": "d361a6a7-eaa1-4141-ded9-e52e4ed64f27"
      },
      "execution_count": 10,
      "outputs": [
        {
          "output_type": "execute_result",
          "data": {
            "text/plain": [
              "Index(['fixed_acidity', 'volatile_acidity', 'citric_acid', 'residual_sugar',\n",
              "       'chlorides', 'free_sulfur_dioxide', 'total_sulfur_dioxide', 'density',\n",
              "       'pH', 'sulphates', 'alcohol', 'quality'],\n",
              "      dtype='object')"
            ]
          },
          "metadata": {},
          "execution_count": 10
        }
      ]
    },
    {
      "cell_type": "code",
      "source": [
        "df.dtypes"
      ],
      "metadata": {
        "colab": {
          "base_uri": "https://localhost:8080/",
          "height": 460
        },
        "id": "z6gmS-q8qBnq",
        "outputId": "705d6f8e-947c-4fbe-b7b3-a37766a87360"
      },
      "execution_count": 11,
      "outputs": [
        {
          "output_type": "execute_result",
          "data": {
            "text/plain": [
              "fixed_acidity           float64\n",
              "volatile_acidity        float64\n",
              "citric_acid             float64\n",
              "residual_sugar          float64\n",
              "chlorides               float64\n",
              "free_sulfur_dioxide     float64\n",
              "total_sulfur_dioxide    float64\n",
              "density                 float64\n",
              "pH                      float64\n",
              "sulphates               float64\n",
              "alcohol                 float64\n",
              "quality                   int64\n",
              "dtype: object"
            ],
            "text/html": [
              "<div>\n",
              "<style scoped>\n",
              "    .dataframe tbody tr th:only-of-type {\n",
              "        vertical-align: middle;\n",
              "    }\n",
              "\n",
              "    .dataframe tbody tr th {\n",
              "        vertical-align: top;\n",
              "    }\n",
              "\n",
              "    .dataframe thead th {\n",
              "        text-align: right;\n",
              "    }\n",
              "</style>\n",
              "<table border=\"1\" class=\"dataframe\">\n",
              "  <thead>\n",
              "    <tr style=\"text-align: right;\">\n",
              "      <th></th>\n",
              "      <th>0</th>\n",
              "    </tr>\n",
              "  </thead>\n",
              "  <tbody>\n",
              "    <tr>\n",
              "      <th>fixed_acidity</th>\n",
              "      <td>float64</td>\n",
              "    </tr>\n",
              "    <tr>\n",
              "      <th>volatile_acidity</th>\n",
              "      <td>float64</td>\n",
              "    </tr>\n",
              "    <tr>\n",
              "      <th>citric_acid</th>\n",
              "      <td>float64</td>\n",
              "    </tr>\n",
              "    <tr>\n",
              "      <th>residual_sugar</th>\n",
              "      <td>float64</td>\n",
              "    </tr>\n",
              "    <tr>\n",
              "      <th>chlorides</th>\n",
              "      <td>float64</td>\n",
              "    </tr>\n",
              "    <tr>\n",
              "      <th>free_sulfur_dioxide</th>\n",
              "      <td>float64</td>\n",
              "    </tr>\n",
              "    <tr>\n",
              "      <th>total_sulfur_dioxide</th>\n",
              "      <td>float64</td>\n",
              "    </tr>\n",
              "    <tr>\n",
              "      <th>density</th>\n",
              "      <td>float64</td>\n",
              "    </tr>\n",
              "    <tr>\n",
              "      <th>pH</th>\n",
              "      <td>float64</td>\n",
              "    </tr>\n",
              "    <tr>\n",
              "      <th>sulphates</th>\n",
              "      <td>float64</td>\n",
              "    </tr>\n",
              "    <tr>\n",
              "      <th>alcohol</th>\n",
              "      <td>float64</td>\n",
              "    </tr>\n",
              "    <tr>\n",
              "      <th>quality</th>\n",
              "      <td>int64</td>\n",
              "    </tr>\n",
              "  </tbody>\n",
              "</table>\n",
              "</div><br><label><b>dtype:</b> object</label>"
            ]
          },
          "metadata": {},
          "execution_count": 11
        }
      ]
    },
    {
      "cell_type": "code",
      "source": [
        "encoded_df = pd.get_dummies(df, columns=['quality'], prefix='quality')\n",
        "print(\"One-hot Encoded Data:\\n\", encoded_df.head())"
      ],
      "metadata": {
        "colab": {
          "base_uri": "https://localhost:8080/"
        },
        "id": "Vb6DTCrgnPqW",
        "outputId": "64eef7b6-f4e6-471d-c864-7111948577b2"
      },
      "execution_count": 8,
      "outputs": [
        {
          "output_type": "stream",
          "name": "stdout",
          "text": [
            "One-hot Encoded Data:\n",
            "    fixed_acidity  volatile_acidity  citric_acid  residual_sugar  chlorides  \\\n",
            "0           11.6             0.580         0.66            2.20      0.074   \n",
            "1           10.4             0.610         0.49            2.10      0.200   \n",
            "2            7.4             1.185         0.00            4.25      0.097   \n",
            "3           10.4             0.440         0.42            1.50      0.145   \n",
            "4            8.3             1.020         0.02            3.40      0.084   \n",
            "\n",
            "   free_sulfur_dioxide  total_sulfur_dioxide  density    pH  sulphates  \\\n",
            "0                 10.0                  47.0  1.00080  3.25       0.57   \n",
            "1                  5.0                  16.0  0.99940  3.16       0.63   \n",
            "2                  5.0                  14.0  0.99660  3.63       0.54   \n",
            "3                 34.0                  48.0  0.99832  3.38       0.86   \n",
            "4                  6.0                  11.0  0.99892  3.48       0.49   \n",
            "\n",
            "   alcohol  quality_3  quality_4  quality_5  quality_6  quality_7  quality_8  \\\n",
            "0      9.0       True      False      False      False      False      False   \n",
            "1      8.4       True      False      False      False      False      False   \n",
            "2     10.7       True      False      False      False      False      False   \n",
            "3      9.9       True      False      False      False      False      False   \n",
            "4     11.0       True      False      False      False      False      False   \n",
            "\n",
            "   quality_9  \n",
            "0      False  \n",
            "1      False  \n",
            "2      False  \n",
            "3      False  \n",
            "4      False  \n"
          ]
        }
      ]
    },
    {
      "cell_type": "code",
      "source": [
        "encoded_df['sugar_density_ratio']=encoded_df['residual_sugar']/encoded_df['density']\n",
        "print(\"Derived Column Data Sample:\\n\",encoded_df[['residual_sugar','density','sugar_density_ratio']].head())"
      ],
      "metadata": {
        "colab": {
          "base_uri": "https://localhost:8080/"
        },
        "id": "tz8j6tWdrGvA",
        "outputId": "d6dd12f3-ec5c-4a60-cccc-10b31677aa3f"
      },
      "execution_count": 16,
      "outputs": [
        {
          "output_type": "stream",
          "name": "stdout",
          "text": [
            "Derived Column Data Sample:\n",
            "    residual_sugar  density  sugar_density_ratio\n",
            "0            2.20  1.00080             2.198241\n",
            "1            2.10  0.99940             2.101261\n",
            "2            4.25  0.99660             4.264499\n",
            "3            1.50  0.99832             1.502524\n",
            "4            3.40  0.99892             3.403676\n"
          ]
        }
      ]
    },
    {
      "cell_type": "code",
      "source": [
        "grouped_df=df.groupby('quality')['alcohol'].mean().reset_index()\n",
        "print(\"Grouped Data:\\n\",grouped_df)"
      ],
      "metadata": {
        "colab": {
          "base_uri": "https://localhost:8080/"
        },
        "id": "meaQLAiHrz16",
        "outputId": "a9acb30e-f09d-4767-a1ca-160dc4a2cf07"
      },
      "execution_count": 19,
      "outputs": [
        {
          "output_type": "stream",
          "name": "stdout",
          "text": [
            "Grouped Data:\n",
            "    quality    alcohol\n",
            "0        3  11.624750\n",
            "1        4  11.553267\n",
            "2        5  10.371093\n",
            "3        6  10.646033\n",
            "4        7  11.619100\n",
            "5        8  11.595200\n",
            "6        9  11.632567\n"
          ]
        }
      ]
    },
    {
      "cell_type": "code",
      "source": [
        "pivot_table=df.pivot_table(values='citric_acid',index='quality',aggfunc='mean').reset_index()\n",
        "print(\"Pivot Table:\\n\",pivot_table)"
      ],
      "metadata": {
        "colab": {
          "base_uri": "https://localhost:8080/"
        },
        "id": "Pdqf-z9mjO4I",
        "outputId": "79109508-4262-4ddc-e8ef-dc1ee03025e6"
      },
      "execution_count": 20,
      "outputs": [
        {
          "output_type": "stream",
          "name": "stdout",
          "text": [
            "Pivot Table:\n",
            "    quality  citric_acid\n",
            "0        3     1.003857\n",
            "1        4     0.948657\n",
            "2        5     0.514153\n",
            "3        6     0.361420\n",
            "4        7     0.760803\n",
            "5        8     0.960370\n",
            "6        9     1.007827\n"
          ]
        }
      ]
    },
    {
      "cell_type": "code",
      "source": [],
      "metadata": {
        "id": "Iz0spFi9tv80"
      },
      "execution_count": null,
      "outputs": []
    },
    {
      "cell_type": "code",
      "source": [],
      "metadata": {
        "id": "ZQ0UQ3-6tv5g"
      },
      "execution_count": null,
      "outputs": []
    }
  ]
}